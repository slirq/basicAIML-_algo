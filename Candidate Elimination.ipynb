{
 "cells": [
  {
   "cell_type": "code",
   "execution_count": 8,
   "id": "1a592b11",
   "metadata": {},
   "outputs": [
    {
     "name": "stdout",
     "output_type": "stream",
     "text": [
      "The dataset is:\n",
      "   sunny   warm  'normal'   strong  warm.1     same  Yes\n",
      "0  sunny   warm      high   strong    warm     same  Yes\n",
      "1  rainy   cool      high   strong    warm   change   No\n",
      "2  sunny   warm      high   strong    cool   change  Yes\n"
     ]
    }
   ],
   "source": [
    "import numpy as np\n",
    "import pandas as pd\n",
    "data = pd.read_csv('data.csv')\n",
    "print('The dataset is:')\n",
    "print(data)"
   ]
  },
  {
   "cell_type": "code",
   "execution_count": 9,
   "id": "d56651d7",
   "metadata": {},
   "outputs": [
    {
     "name": "stdout",
     "output_type": "stream",
     "text": [
      "\n",
      " The concepts are:\n",
      " [['sunny' ' warm' ' high' ' strong' ' warm' ' same']\n",
      " ['rainy' ' cool' ' high' ' strong' ' warm' ' change']\n",
      " ['sunny' ' warm' ' high' ' strong' ' cool' ' change']]\n",
      "\n",
      " The target is:\n",
      " ['Yes' 'No' 'Yes']\n"
     ]
    }
   ],
   "source": [
    "concepts = np.array(data.iloc[:,0:-1])\n",
    "print('\\n The concepts are:\\n',concepts)\n",
    "target = np.array(data.iloc[:,-1])\n",
    "print('\\n The target is:\\n',target)"
   ]
  },
  {
   "cell_type": "code",
   "execution_count": 15,
   "id": "b21104f2",
   "metadata": {},
   "outputs": [],
   "source": [
    "def learn(concepts,target):\n",
    "    specific_h = concepts[0].copy()\n",
    "    general_h = [[\"?\" for i in range (len(specific_h))] for i in range(len(specific_h))]\n",
    "    for i,h in enumerate(concepts):\n",
    "        if target[i] == \"Yes\":\n",
    "            for x in range(len(specific_h)):\n",
    "                if h[x]!=specific_h[x]:\n",
    "                    specific_h[x]='?'\n",
    "                    general_h[x][x]='?'\n",
    "        \n",
    "        if target[i] == \"No\":\n",
    "            for x in range(len(specific_h)):\n",
    "                if h[x]!=specific_h[x]:\n",
    "                    general_h[x][x]=specific_h[x]\n",
    "                else:\n",
    "                    general_h[x][x]='?'\n",
    "    indices = [i for i, val in enumerate(general_h) if val == ['?','?','?','?','?','?']]\n",
    "    for i in indices:\n",
    "        general_h.remove(['?','?','?','?','?','?'])\n",
    "    return specific_h,general_h"
   ]
  },
  {
   "cell_type": "code",
   "execution_count": 16,
   "id": "b73c0e4e",
   "metadata": {},
   "outputs": [
    {
     "name": "stdout",
     "output_type": "stream",
     "text": [
      "\n",
      " Final S: ['sunny' ' warm' ' high' ' strong' '?' '?']\n",
      "\n",
      " Final G: [['sunny', '?', '?', '?', '?', '?'], ['?', ' warm', '?', '?', '?', '?']]\n"
     ]
    }
   ],
   "source": [
    "s_final, g_final = learn(concepts,target)\n",
    "print(\"\\n Final S:\", s_final)\n",
    "print(\"\\n Final G:\", g_final)"
   ]
  },
  {
   "cell_type": "code",
   "execution_count": null,
   "id": "f0fbee00",
   "metadata": {},
   "outputs": [],
   "source": []
  }
 ],
 "metadata": {
  "kernelspec": {
   "display_name": "Python 3",
   "language": "python",
   "name": "python3"
  },
  "language_info": {
   "codemirror_mode": {
    "name": "ipython",
    "version": 3
   },
   "file_extension": ".py",
   "mimetype": "text/x-python",
   "name": "python",
   "nbconvert_exporter": "python",
   "pygments_lexer": "ipython3",
   "version": "3.7.0"
  }
 },
 "nbformat": 4,
 "nbformat_minor": 5
}
